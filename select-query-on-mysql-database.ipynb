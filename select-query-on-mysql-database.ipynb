{
 "cells": [
  {
   "cell_type": "markdown",
   "id": "partial-accent",
   "metadata": {
    "papermill": {},
    "tags": []
   },
   "source": [
    "# Interroger une base de données MySQL avec Python<br>(via ce Jupyter Notebook)\n",
    "Ce document est un **Jupyter Notebook** dans lequel on peut exécuter **des instructions Python** et donc qu'on peut utiliser pour **interroger une base MySQL**. <br>\n",
    "Pour exécuter ce Jupyter Notebook, nous utiliserons la plateforme **Naas.ai**, mais il serait tout à fait possible de le faire tourner sur votre machine en local *(en installant par exemple la distribution Anaconda)*.<br>\n",
    "Et pour cet exercice on se basera sur une base d'entrainement **NetSerieFlix** dont le schéma relationnel est ci-dessous."
   ]
  },
  {
   "cell_type": "markdown",
   "id": "1e254251-0131-436c-9daf-aca2537d45a8",
   "metadata": {},
   "source": [
    "--------"
   ]
  },
  {
   "cell_type": "markdown",
   "id": "input_cell",
   "metadata": {
    "papermill": {},
    "tags": []
   },
   "source": [
    "### Installation et importation des librairies nécessaires"
   ]
  },
  {
   "cell_type": "code",
   "execution_count": 9,
   "id": "4a8c9c2a-e94a-49ac-952d-28f6a88502e6",
   "metadata": {
    "execution": {
     "iopub.execute_input": "2021-11-14T16:09:04.046738Z",
     "iopub.status.busy": "2021-11-14T16:09:04.046485Z",
     "iopub.status.idle": "2021-11-14T16:09:07.138524Z",
     "shell.execute_reply": "2021-11-14T16:09:07.137916Z",
     "shell.execute_reply.started": "2021-11-14T16:09:04.046705Z"
    },
    "papermill": {},
    "tags": []
   },
   "outputs": [
    {
     "name": "stdout",
     "output_type": "stream",
     "text": [
      "Requirement already satisfied: pymysql in /home/ftp/.local/lib/python3.8/site-packages (1.0.2)\n"
     ]
    }
   ],
   "source": [
    "# Installation (si nécessaire) de la librairie pymysql\n",
    "!pip install --user pymysql\n",
    "\n",
    "# Importation des librairies nécessaires\n",
    "import os\n",
    "import pymysql\n",
    "import pandas as pnd"
   ]
  },
  {
   "cell_type": "markdown",
   "id": "b185319d-15fa-43c7-b9ee-363334e7bb77",
   "metadata": {},
   "source": [
    "--------"
   ]
  },
  {
   "cell_type": "markdown",
   "id": "4b026237-9406-4585-877f-8991c335be9d",
   "metadata": {},
   "source": [
    "### Schéma relationnel de la base NetSerieFlix"
   ]
  },
  {
   "cell_type": "markdown",
   "id": "2e16530e-8b2b-43ab-8129-2048b3bcf8d3",
   "metadata": {},
   "source": [
    "<pre style=\"font-size:1.2em; font-weight:500; line-height:1; color:DarkSlateBlue; margin:0;\">\n",
    "  serie (<u>id_serie</u>, nom_serie, note, synopsis) <br>\n",
    "  saison (<u>#id_serie, num_saison</u>, annee) <br>\n",
    "  episode (<u>#id_serie, #num_saison, num_ep</u>, nom_ep, duree_en_min) <br>\n",
    "  genre (<u>id_genre</u>, nom_genre) <br>\n",
    "  appartenir (<u>#id_serie, #id_genre</u>) <br>\n",
    "  favoris (<u>nom_abonne, #id_serie</u>)\n",
    "</pre>"
   ]
  },
  {
   "cell_type": "markdown",
   "id": "42459738-ce40-459c-a560-5552b77fd2fe",
   "metadata": {},
   "source": [
    "--------"
   ]
  },
  {
   "cell_type": "markdown",
   "id": "43b603d3-a795-49f3-898f-ce996eda7d89",
   "metadata": {},
   "source": [
    "### Connexion à la base NetSerieFlix"
   ]
  },
  {
   "cell_type": "code",
   "execution_count": 10,
   "id": "b3122644-7e27-4da8-a03b-032cf039fb54",
   "metadata": {
    "execution": {
     "iopub.execute_input": "2021-11-14T16:09:07.140014Z",
     "iopub.status.busy": "2021-11-14T16:09:07.139774Z",
     "iopub.status.idle": "2021-11-14T16:09:07.219928Z",
     "shell.execute_reply": "2021-11-14T16:09:07.218342Z",
     "shell.execute_reply.started": "2021-11-14T16:09:07.139983Z"
    },
    "papermill": {},
    "tags": []
   },
   "outputs": [
    {
     "ename": "OperationalError",
     "evalue": "(1045, \"Access denied for user 'cavi_lgi'@'15.236.83.113' (using password: YES)\")",
     "output_type": "error",
     "traceback": [
      "\u001b[0;31m---------------------------------------------------------------------------\u001b[0m",
      "\u001b[0;31mOperationalError\u001b[0m                          Traceback (most recent call last)",
      "\u001b[0;32m<ipython-input-10-6c6322325d2c>\u001b[0m in \u001b[0;36m<module>\u001b[0;34m\u001b[0m\n\u001b[1;32m     13\u001b[0m \u001b[0;34m\u001b[0m\u001b[0m\n\u001b[1;32m     14\u001b[0m \u001b[0;31m# Connexion à la base\u001b[0m\u001b[0;34m\u001b[0m\u001b[0;34m\u001b[0m\u001b[0;34m\u001b[0m\u001b[0m\n\u001b[0;32m---> 15\u001b[0;31m MYSQL_CX = pymysql.connect(\n\u001b[0m\u001b[1;32m     16\u001b[0m     \u001b[0mhost\u001b[0m\u001b[0;34m=\u001b[0m\u001b[0mhost\u001b[0m\u001b[0;34m,\u001b[0m\u001b[0;34m\u001b[0m\u001b[0;34m\u001b[0m\u001b[0m\n\u001b[1;32m     17\u001b[0m     \u001b[0mport\u001b[0m\u001b[0;34m=\u001b[0m\u001b[0mint\u001b[0m\u001b[0;34m(\u001b[0m\u001b[0mport\u001b[0m\u001b[0;34m)\u001b[0m\u001b[0;34m,\u001b[0m\u001b[0;34m\u001b[0m\u001b[0;34m\u001b[0m\u001b[0m\n",
      "\u001b[0;32m~/.local/lib/python3.8/site-packages/pymysql/connections.py\u001b[0m in \u001b[0;36m__init__\u001b[0;34m(self, user, password, host, database, unix_socket, port, charset, sql_mode, read_default_file, conv, use_unicode, client_flag, cursorclass, init_command, connect_timeout, read_default_group, autocommit, local_infile, max_allowed_packet, defer_connect, auth_plugin_map, read_timeout, write_timeout, bind_address, binary_prefix, program_name, server_public_key, ssl, ssl_ca, ssl_cert, ssl_disabled, ssl_key, ssl_verify_cert, ssl_verify_identity, compress, named_pipe, passwd, db)\u001b[0m\n\u001b[1;32m    351\u001b[0m             \u001b[0mself\u001b[0m\u001b[0;34m.\u001b[0m\u001b[0m_sock\u001b[0m \u001b[0;34m=\u001b[0m \u001b[0;32mNone\u001b[0m\u001b[0;34m\u001b[0m\u001b[0;34m\u001b[0m\u001b[0m\n\u001b[1;32m    352\u001b[0m         \u001b[0;32melse\u001b[0m\u001b[0;34m:\u001b[0m\u001b[0;34m\u001b[0m\u001b[0;34m\u001b[0m\u001b[0m\n\u001b[0;32m--> 353\u001b[0;31m             \u001b[0mself\u001b[0m\u001b[0;34m.\u001b[0m\u001b[0mconnect\u001b[0m\u001b[0;34m(\u001b[0m\u001b[0;34m)\u001b[0m\u001b[0;34m\u001b[0m\u001b[0;34m\u001b[0m\u001b[0m\n\u001b[0m\u001b[1;32m    354\u001b[0m \u001b[0;34m\u001b[0m\u001b[0m\n\u001b[1;32m    355\u001b[0m     \u001b[0;32mdef\u001b[0m \u001b[0m__enter__\u001b[0m\u001b[0;34m(\u001b[0m\u001b[0mself\u001b[0m\u001b[0;34m)\u001b[0m\u001b[0;34m:\u001b[0m\u001b[0;34m\u001b[0m\u001b[0;34m\u001b[0m\u001b[0m\n",
      "\u001b[0;32m~/.local/lib/python3.8/site-packages/pymysql/connections.py\u001b[0m in \u001b[0;36mconnect\u001b[0;34m(self, sock)\u001b[0m\n\u001b[1;32m    631\u001b[0m \u001b[0;34m\u001b[0m\u001b[0m\n\u001b[1;32m    632\u001b[0m             \u001b[0mself\u001b[0m\u001b[0;34m.\u001b[0m\u001b[0m_get_server_information\u001b[0m\u001b[0;34m(\u001b[0m\u001b[0;34m)\u001b[0m\u001b[0;34m\u001b[0m\u001b[0;34m\u001b[0m\u001b[0m\n\u001b[0;32m--> 633\u001b[0;31m             \u001b[0mself\u001b[0m\u001b[0;34m.\u001b[0m\u001b[0m_request_authentication\u001b[0m\u001b[0;34m(\u001b[0m\u001b[0;34m)\u001b[0m\u001b[0;34m\u001b[0m\u001b[0;34m\u001b[0m\u001b[0m\n\u001b[0m\u001b[1;32m    634\u001b[0m \u001b[0;34m\u001b[0m\u001b[0m\n\u001b[1;32m    635\u001b[0m             \u001b[0;32mif\u001b[0m \u001b[0mself\u001b[0m\u001b[0;34m.\u001b[0m\u001b[0msql_mode\u001b[0m \u001b[0;32mis\u001b[0m \u001b[0;32mnot\u001b[0m \u001b[0;32mNone\u001b[0m\u001b[0;34m:\u001b[0m\u001b[0;34m\u001b[0m\u001b[0;34m\u001b[0m\u001b[0m\n",
      "\u001b[0;32m~/.local/lib/python3.8/site-packages/pymysql/connections.py\u001b[0m in \u001b[0;36m_request_authentication\u001b[0;34m(self)\u001b[0m\n\u001b[1;32m    905\u001b[0m \u001b[0;34m\u001b[0m\u001b[0m\n\u001b[1;32m    906\u001b[0m         \u001b[0mself\u001b[0m\u001b[0;34m.\u001b[0m\u001b[0mwrite_packet\u001b[0m\u001b[0;34m(\u001b[0m\u001b[0mdata\u001b[0m\u001b[0;34m)\u001b[0m\u001b[0;34m\u001b[0m\u001b[0;34m\u001b[0m\u001b[0m\n\u001b[0;32m--> 907\u001b[0;31m         \u001b[0mauth_packet\u001b[0m \u001b[0;34m=\u001b[0m \u001b[0mself\u001b[0m\u001b[0;34m.\u001b[0m\u001b[0m_read_packet\u001b[0m\u001b[0;34m(\u001b[0m\u001b[0;34m)\u001b[0m\u001b[0;34m\u001b[0m\u001b[0;34m\u001b[0m\u001b[0m\n\u001b[0m\u001b[1;32m    908\u001b[0m \u001b[0;34m\u001b[0m\u001b[0m\n\u001b[1;32m    909\u001b[0m         \u001b[0;31m# if authentication method isn't accepted the first byte\u001b[0m\u001b[0;34m\u001b[0m\u001b[0;34m\u001b[0m\u001b[0;34m\u001b[0m\u001b[0m\n",
      "\u001b[0;32m~/.local/lib/python3.8/site-packages/pymysql/connections.py\u001b[0m in \u001b[0;36m_read_packet\u001b[0;34m(self, packet_type)\u001b[0m\n\u001b[1;32m    723\u001b[0m             \u001b[0;32mif\u001b[0m \u001b[0mself\u001b[0m\u001b[0;34m.\u001b[0m\u001b[0m_result\u001b[0m \u001b[0;32mis\u001b[0m \u001b[0;32mnot\u001b[0m \u001b[0;32mNone\u001b[0m \u001b[0;32mand\u001b[0m \u001b[0mself\u001b[0m\u001b[0;34m.\u001b[0m\u001b[0m_result\u001b[0m\u001b[0;34m.\u001b[0m\u001b[0munbuffered_active\u001b[0m \u001b[0;32mis\u001b[0m \u001b[0;32mTrue\u001b[0m\u001b[0;34m:\u001b[0m\u001b[0;34m\u001b[0m\u001b[0;34m\u001b[0m\u001b[0m\n\u001b[1;32m    724\u001b[0m                 \u001b[0mself\u001b[0m\u001b[0;34m.\u001b[0m\u001b[0m_result\u001b[0m\u001b[0;34m.\u001b[0m\u001b[0munbuffered_active\u001b[0m \u001b[0;34m=\u001b[0m \u001b[0;32mFalse\u001b[0m\u001b[0;34m\u001b[0m\u001b[0;34m\u001b[0m\u001b[0m\n\u001b[0;32m--> 725\u001b[0;31m             \u001b[0mpacket\u001b[0m\u001b[0;34m.\u001b[0m\u001b[0mraise_for_error\u001b[0m\u001b[0;34m(\u001b[0m\u001b[0;34m)\u001b[0m\u001b[0;34m\u001b[0m\u001b[0;34m\u001b[0m\u001b[0m\n\u001b[0m\u001b[1;32m    726\u001b[0m         \u001b[0;32mreturn\u001b[0m \u001b[0mpacket\u001b[0m\u001b[0;34m\u001b[0m\u001b[0;34m\u001b[0m\u001b[0m\n\u001b[1;32m    727\u001b[0m \u001b[0;34m\u001b[0m\u001b[0m\n",
      "\u001b[0;32m~/.local/lib/python3.8/site-packages/pymysql/protocol.py\u001b[0m in \u001b[0;36mraise_for_error\u001b[0;34m(self)\u001b[0m\n\u001b[1;32m    219\u001b[0m         \u001b[0;32mif\u001b[0m \u001b[0mDEBUG\u001b[0m\u001b[0;34m:\u001b[0m\u001b[0;34m\u001b[0m\u001b[0;34m\u001b[0m\u001b[0m\n\u001b[1;32m    220\u001b[0m             \u001b[0mprint\u001b[0m\u001b[0;34m(\u001b[0m\u001b[0;34m\"errno =\"\u001b[0m\u001b[0;34m,\u001b[0m \u001b[0merrno\u001b[0m\u001b[0;34m)\u001b[0m\u001b[0;34m\u001b[0m\u001b[0;34m\u001b[0m\u001b[0m\n\u001b[0;32m--> 221\u001b[0;31m         \u001b[0merr\u001b[0m\u001b[0;34m.\u001b[0m\u001b[0mraise_mysql_exception\u001b[0m\u001b[0;34m(\u001b[0m\u001b[0mself\u001b[0m\u001b[0;34m.\u001b[0m\u001b[0m_data\u001b[0m\u001b[0;34m)\u001b[0m\u001b[0;34m\u001b[0m\u001b[0;34m\u001b[0m\u001b[0m\n\u001b[0m\u001b[1;32m    222\u001b[0m \u001b[0;34m\u001b[0m\u001b[0m\n\u001b[1;32m    223\u001b[0m     \u001b[0;32mdef\u001b[0m \u001b[0mdump\u001b[0m\u001b[0;34m(\u001b[0m\u001b[0mself\u001b[0m\u001b[0;34m)\u001b[0m\u001b[0;34m:\u001b[0m\u001b[0;34m\u001b[0m\u001b[0;34m\u001b[0m\u001b[0m\n",
      "\u001b[0;32m~/.local/lib/python3.8/site-packages/pymysql/err.py\u001b[0m in \u001b[0;36mraise_mysql_exception\u001b[0;34m(data)\u001b[0m\n\u001b[1;32m    141\u001b[0m     \u001b[0;32mif\u001b[0m \u001b[0merrorclass\u001b[0m \u001b[0;32mis\u001b[0m \u001b[0;32mNone\u001b[0m\u001b[0;34m:\u001b[0m\u001b[0;34m\u001b[0m\u001b[0;34m\u001b[0m\u001b[0m\n\u001b[1;32m    142\u001b[0m         \u001b[0merrorclass\u001b[0m \u001b[0;34m=\u001b[0m \u001b[0mInternalError\u001b[0m \u001b[0;32mif\u001b[0m \u001b[0merrno\u001b[0m \u001b[0;34m<\u001b[0m \u001b[0;36m1000\u001b[0m \u001b[0;32melse\u001b[0m \u001b[0mOperationalError\u001b[0m\u001b[0;34m\u001b[0m\u001b[0;34m\u001b[0m\u001b[0m\n\u001b[0;32m--> 143\u001b[0;31m     \u001b[0;32mraise\u001b[0m \u001b[0merrorclass\u001b[0m\u001b[0;34m(\u001b[0m\u001b[0merrno\u001b[0m\u001b[0;34m,\u001b[0m \u001b[0merrval\u001b[0m\u001b[0;34m)\u001b[0m\u001b[0;34m\u001b[0m\u001b[0;34m\u001b[0m\u001b[0m\n\u001b[0m",
      "\u001b[0;31mOperationalError\u001b[0m: (1045, \"Access denied for user 'cavi_lgi'@'15.236.83.113' (using password: YES)\")"
     ]
    }
   ],
   "source": [
    "# Informations de connexion à la base NetSerieFlix\n",
    "# (L'utilisateur \"cavi_lgi\" n'ayant que les droits de lecture sur la base)\n",
    "host = \"mysql-cavi.alwaysdata.net\"\n",
    "port = 3306\n",
    "database = \"cavi_netserieflix\"\n",
    "\n",
    "user = \"cavi_lgi\"\n",
    "password = \"...\" # => TODO Indiquer le mot de passe fourni en cours\n",
    "\n",
    "# => Pour explorer la base \"cavi_netserieflix\", connectez-vous au\n",
    "#  PHPMyAdmin associé à cette base : https://phpmyadmin.alwaysdata.com/\n",
    "#  et renseigner les informations de connexion indiquées ci-dessus\n",
    "\n",
    "# Connexion à la base\n",
    "MYSQL_CX = pymysql.connect(\n",
    "    host=host,\n",
    "    port=int(port),\n",
    "    user=user,\n",
    "    passwd=password,\n",
    "    db=database,\n",
    "    charset='utf8mb4')"
   ]
  },
  {
   "cell_type": "markdown",
   "id": "bd5c7196-4095-4491-8c4a-5df0f2203058",
   "metadata": {},
   "source": [
    "--------"
   ]
  },
  {
   "cell_type": "markdown",
   "id": "3cf2dc11-b854-4546-be73-8d7f32232b7f",
   "metadata": {
    "papermill": {},
    "tags": []
   },
   "source": [
    "### Exemple : La liste de tous les épisodes de la série Black Mirror dans l'ordre"
   ]
  },
  {
   "cell_type": "code",
   "execution_count": null,
   "id": "rational-cleaning",
   "metadata": {
    "execution": {
     "iopub.status.busy": "2021-11-14T16:09:07.220852Z",
     "iopub.status.idle": "2021-11-14T16:09:07.221251Z",
     "shell.execute_reply": "2021-11-14T16:09:07.221071Z"
    },
    "papermill": {},
    "tags": []
   },
   "outputs": [],
   "source": [
    "# Définition de la requête\n",
    "# /!\\ Bien penser à utiliser les triple-quotes '''...'''\n",
    "#   pour pouvoir faire des requêtes sur plusieurs lignes\n",
    "query0 = '''SELECT CONCAT('S0', num_saison, 'E0', num_ep) AS code_ep, e.*\n",
    "    FROM serie se, episode e\n",
    "    WHERE se.id_serie = e.id_serie\n",
    "    AND se.nom_serie = 'Black Mirror'\n",
    "    ORDER BY e.num_saison, e.num_ep '''\n",
    "\n",
    "# Exécution de la requête\n",
    "df0 = pnd.read_sql_query(query0, MYSQL_CX)\n",
    "\n",
    "# Affichage des résultats de la requête\n",
    "# /!\\ Indiquer simplement le nom de la variable pour avoir\n",
    "#   un affichage formatté des résultats de la requête\n",
    "df0"
   ]
  },
  {
   "cell_type": "code",
   "execution_count": null,
   "id": "d96a7a36-66c3-4f86-9d6c-157b8e69baa4",
   "metadata": {
    "execution": {
     "iopub.status.busy": "2021-11-14T16:09:07.222161Z",
     "iopub.status.idle": "2021-11-14T16:09:07.222588Z",
     "shell.execute_reply": "2021-11-14T16:09:07.222416Z"
    },
    "tags": []
   },
   "outputs": [],
   "source": [
    "# Utilisation de la bibliothèque graphique intégrée à Notebook\n",
    "%matplotlib inline\n",
    "\n",
    "# Traçage d'un graphique en barres des durées des épisodes\n",
    "df0.plot(kind='bar', x='code_ep', y='duree_en_min', color='SlateBlue')\n",
    "# puis traçage d'un histogramme pour visualiser la fréquence des durées des épisodes\n",
    "df0[['duree_en_min']].plot(kind='hist', bins=[30,40,50,60,70,80,90,100], rwidth=0.8)\n",
    "\n",
    "# Pour voir d'autres exemples de graphiques qui peuvent être générés\n",
    "# à partir d'un DataFrame de la librairie Pandas :\n",
    "#   https://queirozf.com/entries/pandas-dataframe-plot-examples-with-matplotlib-pyplot\n",
    "#   https://pandas.pydata.org/docs/user_guide/visualization.html"
   ]
  },
  {
   "cell_type": "markdown",
   "id": "f0550d75-3e3c-416a-8abb-e2a434de9ac6",
   "metadata": {},
   "source": [
    "------------"
   ]
  },
  {
   "cell_type": "markdown",
   "id": "cbe829d1-6c64-4bf6-bd9b-7caeed5042e3",
   "metadata": {},
   "source": [
    "### Exo1 : Les saisons (avec année de sortie) de la série Stranger Things"
   ]
  },
  {
   "cell_type": "code",
   "execution_count": null,
   "id": "56ca290b-6f5d-4727-8dff-1482cbca2ac6",
   "metadata": {
    "execution": {
     "iopub.status.busy": "2021-11-14T16:09:07.223495Z",
     "iopub.status.idle": "2021-11-14T16:09:07.223941Z",
     "shell.execute_reply": "2021-11-14T16:09:07.223773Z"
    },
    "tags": []
   },
   "outputs": [],
   "source": [
    "# Définition de la requête\n",
    "query1 = '''SELECT * ...'''\n",
    "\n",
    "# Exécution de la requête\n",
    "df1 = pnd.read_sql_query(query1, MYSQL_CX)\n",
    "\n",
    "# Affichage des résultats de la requête\n",
    "df1\n",
    "\n",
    "### RÉSULTATS ATTENDUS ###\n",
    "#    nom_serie        num_saison  annee\n",
    "# 0  Stranger Things  1           2016\n",
    "# 1  Stranger Things  2           2017\n",
    "# 2  Stranger Things  3           2019"
   ]
  },
  {
   "cell_type": "markdown",
   "id": "d5c8658e-72fa-4ce9-8e20-fe91d6a34f30",
   "metadata": {},
   "source": [
    "### Exo2 : Le nom des genres associés à la série qui a l'ID 1"
   ]
  },
  {
   "cell_type": "code",
   "execution_count": null,
   "id": "9cabe75e-ee27-4340-a5c7-4501b600aef1",
   "metadata": {
    "execution": {
     "iopub.status.busy": "2021-11-14T16:09:07.224897Z",
     "iopub.status.idle": "2021-11-14T16:09:07.225393Z",
     "shell.execute_reply": "2021-11-14T16:09:07.225219Z"
    },
    "tags": []
   },
   "outputs": [],
   "source": [
    "# Définition de la requête\n",
    "query2 = '''SELECT * ...'''\n",
    "\n",
    "# Exécution de la requête\n",
    "df2 = pnd.read_sql_query(query2, MYSQL_CX)\n",
    "\n",
    "# Affichage des résultats de la requête\n",
    "df2\n",
    "\n",
    "### RÉSULTATS ATTENDUS ###\n",
    "#    nom_genre\n",
    "# 0  Science-Fiction\n",
    "# 1  Fantastique"
   ]
  },
  {
   "cell_type": "markdown",
   "id": "c794e0ff-c74c-41a3-bd21-52f146128f76",
   "metadata": {},
   "source": [
    "### Exo3 : Le nom des épisodes dont le nom commence par \"Retour\"\n",
    "Les résultats doivent être **triés par ordre alphabétique**."
   ]
  },
  {
   "cell_type": "code",
   "execution_count": null,
   "id": "51a621a8-2e60-45b4-a1c4-7612261d39d6",
   "metadata": {
    "execution": {
     "iopub.status.busy": "2021-11-14T16:09:07.226486Z",
     "iopub.status.idle": "2021-11-14T16:09:07.226833Z",
     "shell.execute_reply": "2021-11-14T16:09:07.226668Z"
    },
    "tags": []
   },
   "outputs": [],
   "source": [
    "# Définition de la requête\n",
    "query3 = '''SELECT * ...'''\n",
    "\n",
    "# Exécution de la requête\n",
    "df3 = pnd.read_sql_query(query3, MYSQL_CX)\n",
    "\n",
    "# Affichage des résultats de la requête\n",
    "df3\n",
    "\n",
    "### RÉSULTATS ATTENDUS ###\n",
    "#    nom_ep\n",
    "# 0  Retour aux sources\n",
    "# 1  Retour sur image"
   ]
  },
  {
   "cell_type": "markdown",
   "id": "c4436ffb-301c-48d6-bbf6-fcc1e457a2d2",
   "metadata": {},
   "source": [
    "### Exo4 : Le nom des genres associés soit à la série Black Mirror, soit à la série Stranger Things, soit aux deux\n",
    "Les résultats ne doivent **pas comporter de doublons**, et doivent être **triés par ordre alphabétique inversé**."
   ]
  },
  {
   "cell_type": "code",
   "execution_count": null,
   "id": "cc9343ff-7a1a-4419-a73d-959ef36b29da",
   "metadata": {
    "execution": {
     "iopub.status.busy": "2021-11-14T16:09:07.227718Z",
     "iopub.status.idle": "2021-11-14T16:09:07.228109Z",
     "shell.execute_reply": "2021-11-14T16:09:07.227941Z"
    },
    "tags": []
   },
   "outputs": [],
   "source": [
    "# Définition de la requête\n",
    "query4 = '''SELECT * ...'''\n",
    "\n",
    "# Exécution de la requête\n",
    "df4 = pnd.read_sql_query(query4, MYSQL_CX)\n",
    "\n",
    "# Affichage des résultats de la requête\n",
    "df4\n",
    "\n",
    "### RÉSULTATS ATTENDUS ###\n",
    "#    nom_genre\n",
    "# 0  Thriller\n",
    "# 1  Science-Fiction\n",
    "# 2  Fantastique"
   ]
  },
  {
   "cell_type": "markdown",
   "id": "29e81175-933e-4f80-bb2b-b6c4f386766b",
   "metadata": {},
   "source": [
    "### Exo5 : Le nom et la durée de l'épisode de Black Mirror qui dure le plus longtemps\n",
    "<i><u>INDICE :</u> Pensez à utiliser un **ORDER BY** associé à un **LIMIT** pour faire cela (pas besoin de **MAX(...)**)</i>"
   ]
  },
  {
   "cell_type": "code",
   "execution_count": null,
   "id": "94f706ef-492f-4f29-9365-867be40ec21e",
   "metadata": {
    "execution": {
     "iopub.status.busy": "2021-11-14T16:09:07.228982Z",
     "iopub.status.idle": "2021-11-14T16:09:07.229331Z",
     "shell.execute_reply": "2021-11-14T16:09:07.229155Z"
    },
    "tags": []
   },
   "outputs": [],
   "source": [
    "# Définition de la requête\n",
    "query5 = '''SELECT * ...'''\n",
    "\n",
    "# Exécution de la requête\n",
    "df5 = pnd.read_sql_query(query5, MYSQL_CX)\n",
    "\n",
    "# Affichage des résultats de la requête\n",
    "df5\n",
    "\n",
    "### RÉSULTATS ATTENDUS ###\n",
    "#    nom_ep           duree_maxi\n",
    "# 0  Haine virtuelle  89"
   ]
  },
  {
   "cell_type": "markdown",
   "id": "1056860f-f7d0-4539-b50b-cd94a730a5b6",
   "metadata": {},
   "source": [
    "### Exo6 : Le nom et le nombre d'épisodes des séries qui ont au moins 25 épisodes différents\n",
    "Les résultats doivent être **triés du plus grand au plus petit nombre d'épisodes**.<br>\n",
    "<i><u>INDICE :</u> Pensez à utiliser un **COUNT(*)**, un **GROUP BY** associé à un **HAVING** pour faire cela."
   ]
  },
  {
   "cell_type": "code",
   "execution_count": null,
   "id": "b62210bf-2010-4d58-95c2-d1b7d7cc1a9a",
   "metadata": {
    "execution": {
     "iopub.status.busy": "2021-11-14T16:09:07.230270Z",
     "iopub.status.idle": "2021-11-14T16:09:07.230666Z",
     "shell.execute_reply": "2021-11-14T16:09:07.230495Z"
    },
    "tags": []
   },
   "outputs": [],
   "source": [
    "# Définition de la requête\n",
    "query6 = '''SELECT * ...'''\n",
    "\n",
    "# Exécution de la requête\n",
    "df6 = pnd.read_sql_query(query6, MYSQL_CX)\n",
    "\n",
    "# Affichage des résultats de la requête\n",
    "df6\n",
    "\n",
    "### RÉSULTATS ATTENDUS ###\n",
    "#    nom_serie        nb_episodes\n",
    "# 0  Hero Corp        30\n",
    "# 1  Stranger Things  25"
   ]
  },
  {
   "cell_type": "markdown",
   "id": "652fed58-c802-4a6f-9506-60d4aea4d141",
   "metadata": {},
   "source": [
    "### Exo7 : Le temps total nécessaire pour voir tous les épisodes de la série Black Mirror\n",
    "Afficher le résultat **en minutes** (pas besoin de le convertir)."
   ]
  },
  {
   "cell_type": "code",
   "execution_count": null,
   "id": "79e41646-1aac-4e90-b104-a3a78084e588",
   "metadata": {
    "execution": {
     "iopub.status.busy": "2021-11-14T16:09:07.231558Z",
     "iopub.status.idle": "2021-11-14T16:09:07.231890Z",
     "shell.execute_reply": "2021-11-14T16:09:07.231729Z"
    },
    "tags": []
   },
   "outputs": [],
   "source": [
    "# Définition de la requête\n",
    "query7 = '''SELECT * ...'''\n",
    "\n",
    "# Exécution de la requête\n",
    "df7 = pnd.read_sql_query(query7, MYSQL_CX)\n",
    "\n",
    "# Affichage des résultats de la requête\n",
    "df7\n",
    "\n",
    "### RÉSULTATS ATTENDUS ###\n",
    "#     somme_durees\n",
    "# 0   1090.0"
   ]
  },
  {
   "cell_type": "markdown",
   "id": "7292f576-ff44-4fef-a3ef-d84d62fcfb6a",
   "metadata": {},
   "source": [
    "### Exo8 : Pour chaque saison de Stranger Things, La moyenne de durée des épisodes\n",
    "Les moyennes doivent être **arrondies au 1er chiffre après la virgule** grâce à la fonction **ROUND(...)** : https://sql.sh/fonctions/round"
   ]
  },
  {
   "cell_type": "code",
   "execution_count": null,
   "id": "adfd6b00-4ed6-497d-9139-adb40d945213",
   "metadata": {
    "execution": {
     "iopub.status.busy": "2021-11-14T16:09:07.232728Z",
     "iopub.status.idle": "2021-11-14T16:09:07.233133Z",
     "shell.execute_reply": "2021-11-14T16:09:07.232964Z"
    },
    "tags": []
   },
   "outputs": [],
   "source": [
    "# Définition de la requête\n",
    "query8 = '''SELECT * ...'''\n",
    "\n",
    "# Exécution de la requête\n",
    "df8 = pnd.read_sql_query(query8, MYSQL_CX)\n",
    "\n",
    "# Affichage des résultats de la requête\n",
    "df8\n",
    "\n",
    "### RÉSULTATS ATTENDUS ###\n",
    "#    num_saison  moy_duree\n",
    "# 0  1           49.4\n",
    "# 1  2           51.6\n",
    "# 2  3           56.1"
   ]
  },
  {
   "cell_type": "markdown",
   "id": "63061a64-08db-4b16-b62f-6b5be83af96d",
   "metadata": {},
   "source": [
    "---------"
   ]
  },
  {
   "cell_type": "markdown",
   "id": "a1ed4a21-c6a0-4287-8cbb-9275d50f2f04",
   "metadata": {},
   "source": [
    "### *Fermeture de la connexion avec la BDD*\n",
    "*Même si ce n'est pas obligatoire dans ce cadre, il est souvent important de fermer la connexion avec la BDD à la fin de son script.*"
   ]
  },
  {
   "cell_type": "code",
   "execution_count": null,
   "id": "becoming-string",
   "metadata": {
    "execution": {
     "iopub.status.busy": "2021-11-14T16:09:07.233970Z",
     "iopub.status.idle": "2021-11-14T16:09:07.234410Z",
     "shell.execute_reply": "2021-11-14T16:09:07.234242Z"
    },
    "papermill": {},
    "tags": []
   },
   "outputs": [],
   "source": [
    "MYSQL_CX.close()"
   ]
  }
 ],
 "metadata": {
  "kernelspec": {
   "display_name": "Python 3",
   "language": "python",
   "name": "python3"
  },
  "language_info": {
   "codemirror_mode": {
    "name": "ipython",
    "version": 3
   },
   "file_extension": ".py",
   "mimetype": "text/x-python",
   "name": "python",
   "nbconvert_exporter": "python",
   "pygments_lexer": "ipython3",
   "version": "3.8.8"
  },
  "papermill": {
   "default_parameters": {},
   "environment_variables": {},
   "parameters": {},
   "version": "2.3.3"
  }
 },
 "nbformat": 4,
 "nbformat_minor": 5
}
